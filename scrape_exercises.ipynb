{
 "cells": [
  {
   "cell_type": "markdown",
   "metadata": {},
   "source": [
    "## 1. Scrape Exercises"
   ]
  },
  {
   "cell_type": "code",
   "execution_count": 1,
   "metadata": {},
   "outputs": [],
   "source": [
    "import requests\n",
    "from bs4 import BeautifulSoup\n",
    "import pandas as pd\n",
    "import copy\n",
    "import os"
   ]
  },
  {
   "cell_type": "markdown",
   "metadata": {},
   "source": [
    "### 1.1 Function to extract: title, body part, difficulty, equipment"
   ]
  },
  {
   "cell_type": "code",
   "execution_count": 2,
   "metadata": {},
   "outputs": [],
   "source": [
    "def save_exercise_images(soup, title):\n",
    "    link1 = soup.find('div', {'class': 'exercise-card__image'}).attrs['style'].split(\"'\")[1]\n",
    "    link2 = link1.strip('1.jpg') + '2.jpg'\n",
    "    \n",
    "    file_names = []\n",
    "    for link in [link1, link2]:\n",
    "        file_name = '{}_{}'.format(title.replace(\" \", \"\").replace(\"/\", \"_\").replace(\"\\\\\", \"_\").replace(\",\", \"_\").replace(\"'\", \"_\" ), link.split('/')[-1])\n",
    "#         file_name = link.split('/')[-1]\n",
    "        file_names.append(file_name)\n",
    "        with open(os.path.join('images', file_name), \"wb\") as f:\n",
    "            f.write(requests.get(link).content)\n",
    "    \n",
    "    return file_names\n",
    "    "
   ]
  },
  {
   "cell_type": "code",
   "execution_count": 3,
   "metadata": {},
   "outputs": [],
   "source": [
    "def scrape_exercise_page(soup, exercises_df):\n",
    "\n",
    "    for card in soup.find_all(\"a\", {\"class\": \"exercise-card\"}):\n",
    "        title = card.find(\"h2\", {\"class\": \"exercise-card__title\"}).get_text()\n",
    "\n",
    "        exercise_info_text_base = \"exercise-info__term exercise-info__term--\"\n",
    "        body_part = card.find(\"div\", {\"class\": exercise_info_text_base + \"body-part\"}).dd.get_text().split(', ')\n",
    "\n",
    "        difficulty = card.find(\"div\", {\"class\": exercise_info_text_base + \"difficulty\"}).span.get_text()\n",
    "\n",
    "        equipment = card.find(\"div\", {\"class\": exercise_info_text_base + \"equipment\"}).dd.get_text().split(', ')\n",
    "\n",
    "        # save images\n",
    "        image_names = save_exercise_images(soup, title)\n",
    "        \n",
    "        exercises_df = exercises_df.append({\"title\": title, \n",
    "                                            \"body_part\": body_part, \n",
    "                                            \"difficulty\": difficulty, \n",
    "                                            \"equipment\": equipment, \n",
    "                                            \"image1\": image_names[0], \n",
    "                                            \"image2\": image_names[1]}, ignore_index=True)\n",
    "        \n",
    "    return exercises_df"
   ]
  },
  {
   "cell_type": "markdown",
   "metadata": {},
   "source": [
    "### 1.2 Scrape data from website to dataframe"
   ]
  },
  {
   "cell_type": "code",
   "execution_count": 4,
   "metadata": {},
   "outputs": [],
   "source": [
    "exercises_df = pd.DataFrame()\n",
    "\n",
    "for difficulty in ['beginner', 'intermediate', 'advanced']:\n",
    "    url = \"https://www.acefitness.org/education-and-resources/lifestyle/exercise-library/experience/{}/\".format(difficulty)\n",
    "\n",
    "    page_number = 1\n",
    "    while True:\n",
    "        page = requests.get(\"{}/?page={}\".format(url, page_number))\n",
    "        soup = BeautifulSoup(page.content, 'html.parser')\n",
    "        extracted_page_number = int(soup.find_all(\"script\", {\"type\": \"text/javascript\"})[-4].contents[0].split(\"exerciseFilter.selectedPage = \")[-1].split(\";\")[0])\n",
    "        if page_number == extracted_page_number:\n",
    "            exercises_df = scrape_exercise_page(soup, exercises_df)\n",
    "            page_number += 1\n",
    "        else:\n",
    "            break"
   ]
  },
  {
   "cell_type": "code",
   "execution_count": 5,
   "metadata": {},
   "outputs": [
    {
     "data": {
      "text/html": [
       "<div>\n",
       "<style scoped>\n",
       "    .dataframe tbody tr th:only-of-type {\n",
       "        vertical-align: middle;\n",
       "    }\n",
       "\n",
       "    .dataframe tbody tr th {\n",
       "        vertical-align: top;\n",
       "    }\n",
       "\n",
       "    .dataframe thead th {\n",
       "        text-align: right;\n",
       "    }\n",
       "</style>\n",
       "<table border=\"1\" class=\"dataframe\">\n",
       "  <thead>\n",
       "    <tr style=\"text-align: right;\">\n",
       "      <th></th>\n",
       "      <th>title</th>\n",
       "      <th>body_part</th>\n",
       "      <th>difficulty</th>\n",
       "      <th>equipment</th>\n",
       "      <th>image1</th>\n",
       "      <th>image2</th>\n",
       "    </tr>\n",
       "  </thead>\n",
       "  <tbody>\n",
       "    <tr>\n",
       "      <th>0</th>\n",
       "      <td>Triceps Pressdown</td>\n",
       "      <td>[Arms]</td>\n",
       "      <td>Beginner</td>\n",
       "      <td>[Resistance Bands/Cables]</td>\n",
       "      <td>TricepsPressdown_3-1.jpg</td>\n",
       "      <td>TricepsPressdown_3-2.jpg</td>\n",
       "    </tr>\n",
       "    <tr>\n",
       "      <th>1</th>\n",
       "      <td>Chest Press</td>\n",
       "      <td>[Arms, Chest, Shoulders]</td>\n",
       "      <td>Beginner</td>\n",
       "      <td>[Barbell, Bench]</td>\n",
       "      <td>ChestPress_3-1.jpg</td>\n",
       "      <td>ChestPress_3-2.jpg</td>\n",
       "    </tr>\n",
       "    <tr>\n",
       "      <th>2</th>\n",
       "      <td>Supine Pelvic Tilts</td>\n",
       "      <td>[Abs]</td>\n",
       "      <td>Beginner</td>\n",
       "      <td>[No Equipment]</td>\n",
       "      <td>SupinePelvicTilts_3-1.jpg</td>\n",
       "      <td>SupinePelvicTilts_3-2.jpg</td>\n",
       "    </tr>\n",
       "    <tr>\n",
       "      <th>3</th>\n",
       "      <td>Supermans</td>\n",
       "      <td>[Back, Butt/Hips, Shoulders]</td>\n",
       "      <td>Beginner</td>\n",
       "      <td>[No Equipment]</td>\n",
       "      <td>Supermans_3-1.jpg</td>\n",
       "      <td>Supermans_3-2.jpg</td>\n",
       "    </tr>\n",
       "    <tr>\n",
       "      <th>4</th>\n",
       "      <td>Bent Knee Push-up</td>\n",
       "      <td>[Arms, Chest, Shoulders]</td>\n",
       "      <td>Beginner</td>\n",
       "      <td>[No Equipment]</td>\n",
       "      <td>BentKneePush-up_3-1.jpg</td>\n",
       "      <td>BentKneePush-up_3-2.jpg</td>\n",
       "    </tr>\n",
       "    <tr>\n",
       "      <th>...</th>\n",
       "      <td>...</td>\n",
       "      <td>...</td>\n",
       "      <td>...</td>\n",
       "      <td>...</td>\n",
       "      <td>...</td>\n",
       "      <td>...</td>\n",
       "    </tr>\n",
       "    <tr>\n",
       "      <th>325</th>\n",
       "      <td>Waiter's Carry</td>\n",
       "      <td>[Full Body/Integrated]</td>\n",
       "      <td>Advanced</td>\n",
       "      <td>[Kettlebells]</td>\n",
       "      <td>Waiter_sCarry_374-1.jpg</td>\n",
       "      <td>Waiter_sCarry_374-2.jpg</td>\n",
       "    </tr>\n",
       "    <tr>\n",
       "      <th>326</th>\n",
       "      <td>Single Arm Swing</td>\n",
       "      <td>[Full Body/Integrated]</td>\n",
       "      <td>Advanced</td>\n",
       "      <td>[Kettlebells]</td>\n",
       "      <td>SingleArmSwing_392-1.jpg</td>\n",
       "      <td>SingleArmSwing_392-2.jpg</td>\n",
       "    </tr>\n",
       "    <tr>\n",
       "      <th>327</th>\n",
       "      <td>Single Arm Overhead Squat</td>\n",
       "      <td>[Back, Full Body/Integrated, Legs - Thighs, Sh...</td>\n",
       "      <td>Advanced</td>\n",
       "      <td>[Kettlebells]</td>\n",
       "      <td>SingleArmOverheadSquat_392-1.jpg</td>\n",
       "      <td>SingleArmOverheadSquat_392-2.jpg</td>\n",
       "    </tr>\n",
       "    <tr>\n",
       "      <th>328</th>\n",
       "      <td>Halo</td>\n",
       "      <td>[Back, Butt/Hips, Chest, Full Body/Integrated,...</td>\n",
       "      <td>Advanced</td>\n",
       "      <td>[Kettlebells]</td>\n",
       "      <td>Halo_392-1.jpg</td>\n",
       "      <td>Halo_392-2.jpg</td>\n",
       "    </tr>\n",
       "    <tr>\n",
       "      <th>329</th>\n",
       "      <td>Bottom-up Press</td>\n",
       "      <td>[Chest, Full Body/Integrated, Shoulders]</td>\n",
       "      <td>Advanced</td>\n",
       "      <td>[Kettlebells]</td>\n",
       "      <td>Bottom-upPress_392-1.jpg</td>\n",
       "      <td>Bottom-upPress_392-2.jpg</td>\n",
       "    </tr>\n",
       "  </tbody>\n",
       "</table>\n",
       "<p>330 rows × 6 columns</p>\n",
       "</div>"
      ],
      "text/plain": [
       "                         title  \\\n",
       "0            Triceps Pressdown   \n",
       "1                  Chest Press   \n",
       "2          Supine Pelvic Tilts   \n",
       "3                    Supermans   \n",
       "4            Bent Knee Push-up   \n",
       "..                         ...   \n",
       "325             Waiter's Carry   \n",
       "326           Single Arm Swing   \n",
       "327  Single Arm Overhead Squat   \n",
       "328                       Halo   \n",
       "329            Bottom-up Press   \n",
       "\n",
       "                                             body_part difficulty  \\\n",
       "0                                               [Arms]   Beginner   \n",
       "1                             [Arms, Chest, Shoulders]   Beginner   \n",
       "2                                                [Abs]   Beginner   \n",
       "3                         [Back, Butt/Hips, Shoulders]   Beginner   \n",
       "4                             [Arms, Chest, Shoulders]   Beginner   \n",
       "..                                                 ...        ...   \n",
       "325                             [Full Body/Integrated]   Advanced   \n",
       "326                             [Full Body/Integrated]   Advanced   \n",
       "327  [Back, Full Body/Integrated, Legs - Thighs, Sh...   Advanced   \n",
       "328  [Back, Butt/Hips, Chest, Full Body/Integrated,...   Advanced   \n",
       "329           [Chest, Full Body/Integrated, Shoulders]   Advanced   \n",
       "\n",
       "                     equipment                            image1  \\\n",
       "0    [Resistance Bands/Cables]          TricepsPressdown_3-1.jpg   \n",
       "1             [Barbell, Bench]                ChestPress_3-1.jpg   \n",
       "2               [No Equipment]         SupinePelvicTilts_3-1.jpg   \n",
       "3               [No Equipment]                 Supermans_3-1.jpg   \n",
       "4               [No Equipment]           BentKneePush-up_3-1.jpg   \n",
       "..                         ...                               ...   \n",
       "325              [Kettlebells]           Waiter_sCarry_374-1.jpg   \n",
       "326              [Kettlebells]          SingleArmSwing_392-1.jpg   \n",
       "327              [Kettlebells]  SingleArmOverheadSquat_392-1.jpg   \n",
       "328              [Kettlebells]                    Halo_392-1.jpg   \n",
       "329              [Kettlebells]          Bottom-upPress_392-1.jpg   \n",
       "\n",
       "                               image2  \n",
       "0            TricepsPressdown_3-2.jpg  \n",
       "1                  ChestPress_3-2.jpg  \n",
       "2           SupinePelvicTilts_3-2.jpg  \n",
       "3                   Supermans_3-2.jpg  \n",
       "4             BentKneePush-up_3-2.jpg  \n",
       "..                                ...  \n",
       "325           Waiter_sCarry_374-2.jpg  \n",
       "326          SingleArmSwing_392-2.jpg  \n",
       "327  SingleArmOverheadSquat_392-2.jpg  \n",
       "328                    Halo_392-2.jpg  \n",
       "329          Bottom-upPress_392-2.jpg  \n",
       "\n",
       "[330 rows x 6 columns]"
      ]
     },
     "execution_count": 5,
     "metadata": {},
     "output_type": "execute_result"
    }
   ],
   "source": [
    "# Move title column to front\n",
    "exercises_df = exercises_df[['title'] + [col for col in exercises_df.columns if col != 'title']]\n",
    "exercises_df"
   ]
  },
  {
   "cell_type": "markdown",
   "metadata": {},
   "source": [
    "### 1.3 Save data"
   ]
  },
  {
   "cell_type": "code",
   "execution_count": 6,
   "metadata": {},
   "outputs": [],
   "source": [
    "exercises_df.to_csv(os.path.join('data', 'exercises.csv'), index=False)"
   ]
  },
  {
   "cell_type": "markdown",
   "metadata": {},
   "source": [
    "## 2. Filtering Data"
   ]
  },
  {
   "cell_type": "code",
   "execution_count": 7,
   "metadata": {},
   "outputs": [],
   "source": [
    "df = copy.deepcopy(exercises_df)\n",
    "df = df.join(exercises_df['body_part'].str.join(',').str.get_dummies(sep=',').astype(bool).add_prefix('body_part__'))\n",
    "df = df.join(exercises_df['equipment'].str.join(',').str.get_dummies(sep=',').astype(bool).add_prefix('equipment__'))"
   ]
  },
  {
   "cell_type": "code",
   "execution_count": 8,
   "metadata": {},
   "outputs": [
    {
     "data": {
      "text/plain": [
       "['Abs',\n",
       " 'Arms',\n",
       " 'Back',\n",
       " 'Butt/Hips',\n",
       " 'Chest',\n",
       " 'Full Body/Integrated',\n",
       " 'Legs - Calves and Shins',\n",
       " 'Legs - Thighs',\n",
       " 'Neck',\n",
       " 'Shoulders']"
      ]
     },
     "execution_count": 8,
     "metadata": {},
     "output_type": "execute_result"
    }
   ],
   "source": [
    "body_parts = [col[len('body_part__'):] for col in df.columns if 'body_part__' in col]\n",
    "body_parts"
   ]
  },
  {
   "cell_type": "code",
   "execution_count": 9,
   "metadata": {},
   "outputs": [
    {
     "data": {
      "text/plain": [
       "['BOSU Trainer',\n",
       " 'Barbell',\n",
       " 'Bench',\n",
       " 'Cones',\n",
       " 'Dumbbells',\n",
       " 'Heavy Ropes',\n",
       " 'Hurdles',\n",
       " 'Kettlebells',\n",
       " 'Ladder',\n",
       " 'Medicine Ball',\n",
       " 'No Equipment',\n",
       " 'Pull up bar',\n",
       " 'Raised Platform/Box',\n",
       " 'Resistance Bands/Cables',\n",
       " 'Stability Ball',\n",
       " 'TRX',\n",
       " 'Weight Machines / Selectorized']"
      ]
     },
     "execution_count": 9,
     "metadata": {},
     "output_type": "execute_result"
    }
   ],
   "source": [
    "equipments = [col[len('equipment__'):] for col in df.columns if 'equipment__' in col]\n",
    "equipments"
   ]
  },
  {
   "cell_type": "code",
   "execution_count": 10,
   "metadata": {},
   "outputs": [
    {
     "data": {
      "text/plain": [
       "['Beginner', 'Intermediate', 'Advanced']"
      ]
     },
     "execution_count": 10,
     "metadata": {},
     "output_type": "execute_result"
    }
   ],
   "source": [
    "difficulties = list(exercises_df['difficulty'].unique())\n",
    "difficulties"
   ]
  },
  {
   "cell_type": "code",
   "execution_count": 11,
   "metadata": {},
   "outputs": [],
   "source": [
    "df.to_csv(os.path.join('data', 'exercises_expanded.csv'), index=False)"
   ]
  },
  {
   "cell_type": "code",
   "execution_count": 12,
   "metadata": {},
   "outputs": [
    {
     "data": {
      "text/plain": [
       "array(['Triceps Pressdown', 'Chest Press', 'Supine Pelvic Tilts',\n",
       "       'Supermans', 'Bent Knee Push-up', 'Cat-Cow', 'Cobra Exercise',\n",
       "       'Ankle Flexion ', 'Incline Chest Press', 'Lateral Raise',\n",
       "       'Step-up', 'Wrist Curl - Extension', 'Wrist Curl - Flexion',\n",
       "       'Wrist Supination & Pronation Exercises', 'Hip Hinge',\n",
       "       'Incline Reverse Fly', 'Side Lying Hip Abduction',\n",
       "       'Side Lying Hip Adduction', 'Seated Biceps Curl',\n",
       "       'Seated High Back Row ', 'Seated Medicine Ball Trunk Rotations',\n",
       "       'Seated Row ', 'Glute Bridge Exercise', 'Crunch',\n",
       "       'Contralateral Limb Raises', 'Front Raise', 'Triceps Kickback',\n",
       "       'Stability Ball Sit-ups / Crunches', 'Stability Ball Wall Squats',\n",
       "       'Standing Calf Raises - Wall', 'Half-kneeling Hay Baler',\n",
       "       'Side Plank - modified', 'Dirty Dog',\n",
       "       'Forward Stepping over Cones ', 'Single Leg Stand', 'Squat Jumps',\n",
       "       'Supine Hollowing with Lower Extremity Movements',\n",
       "       'Supine Rotator Cuff ', 'Supine Shoulder Flexion ',\n",
       "       'Supine Snow Angel (Wipers) Exercise',\n",
       "       'Prone (Lying) Hamstrings Curl', 'Bodyweight Squat',\n",
       "       'Standing Lunge Stretch', 'Kneeling Lat Stretch (w/bench)',\n",
       "       'Kneeling Hip-flexor Stretch ', 'Supine Hip Flexor Stretch',\n",
       "       'Supine Dead Bug', 'Supine 90-90 Hip Rotator Stretch',\n",
       "       'Side Lying Quadriceps Stretch ',\n",
       "       'Standing Dorsi-Flexion (Calf Stretch)', 'Lying Hamstrings Curl',\n",
       "       'Seated Leg Press Exercise', 'Seated Lat Pulldown',\n",
       "       'Seated Cable Press', 'Seated Decline Cable Press ',\n",
       "       'Seated Incline Cable Press', 'Seated Row ',\n",
       "       'Seated High Back Rows', 'Overhead Triceps Stretch',\n",
       "       'Forward Linear Jumps', 'Lateral Shuffles',\n",
       "       'Seated Leg Extension ', 'Seated Biceps Curl',\n",
       "       'Triceps Pushdowns ', 'Seated Shoulder Press ',\n",
       "       'Seated Machine Close-Grip Shoulder Press', 'Seated Chest Press  ',\n",
       "       'Seated Close-Grip Chest Press', 'Thomas Stretch',\n",
       "       'Kneeling TA Stretch', '90 Lat Stretch',\n",
       "       'Standing Shoulder Extension', 'Lateral Neck Flexion',\n",
       "       'Neck Flexion and Extension', 'Shoulder Packing',\n",
       "       'Seated Bent-Knee Biceps Stretch', 'Standing Chest Stretch',\n",
       "       'Seated Straddle Stretch ', 'Seated Side-Straddle Stretch ',\n",
       "       'Seated Toe Touches ', 'Seated Calf Stretch',\n",
       "       'Seated Butterfly Stretch ', 'Forward Hurdle Run', 'Squat Jump',\n",
       "       'Childs Pose', 'Warrior I', 'Single Leg Push-off',\n",
       "       'Leg Crossover Stretch ', 'Supine Hamstrings Stretch',\n",
       "       'Supine Reverse Marches', 'Upward Facing Dog',\n",
       "       'V Sit Partner Rotations', 'Partner Assisted Bodyweight Squats',\n",
       "       'Partner Tricep Extension', 'Quadruped Bent-knee Hip Extensions',\n",
       "       \"Modified Hurdler's Stretch\", 'Walking Abduction', 'Seated Crunch',\n",
       "       'Tricep Extension', 'Glute Press', 'Calf Raise',\n",
       "       'Lateral Shoulder Raise', \"Kneeling ABC's\", 'Decline Plank',\n",
       "       'Standing Bicep Curl', 'Standing Crunch',\n",
       "       'Tricep Pressdown Exercise', 'Anti-rotation Reverse Lunge',\n",
       "       'Rotator Cuff Internal Rotation', 'Rotator Cuff External Rotation',\n",
       "       'Single-arm Lateral Raise', 'V-raise'], dtype=object)"
      ]
     },
     "execution_count": 12,
     "metadata": {},
     "output_type": "execute_result"
    }
   ],
   "source": [
    "df[df['difficulty'] == 'Beginner'].title.values"
   ]
  },
  {
   "cell_type": "code",
   "execution_count": null,
   "metadata": {},
   "outputs": [],
   "source": []
  }
 ],
 "metadata": {
  "kernelspec": {
   "display_name": "Python 3",
   "language": "python",
   "name": "python3"
  },
  "language_info": {
   "codemirror_mode": {
    "name": "ipython",
    "version": 3
   },
   "file_extension": ".py",
   "mimetype": "text/x-python",
   "name": "python",
   "nbconvert_exporter": "python",
   "pygments_lexer": "ipython3",
   "version": "3.8.5"
  }
 },
 "nbformat": 4,
 "nbformat_minor": 4
}
