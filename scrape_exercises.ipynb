{
 "cells": [
  {
   "cell_type": "markdown",
   "metadata": {},
   "source": [
    "## 1. Scrape Exercises"
   ]
  },
  {
   "cell_type": "code",
   "execution_count": 1,
   "metadata": {},
   "outputs": [],
   "source": [
    "import requests\n",
    "from bs4 import BeautifulSoup\n",
    "import pandas as pd\n",
    "import copy\n",
    "import os"
   ]
  },
  {
   "cell_type": "markdown",
   "metadata": {},
   "source": [
    "### 1.1 Function to extract: title, body part, difficulty, equipment"
   ]
  },
  {
   "cell_type": "code",
   "execution_count": 2,
   "metadata": {},
   "outputs": [],
   "source": [
    "def save_exercise_images(soup, title):\n",
    "    link1 = soup.find('div', {'class': 'exercise-card__image'}).attrs['style'].split(\"'\")[1]\n",
    "    link2 = link1.strip('1.jpg') + '2.jpg'\n",
    "    \n",
    "    file_names = []\n",
    "    for link in [link1, link2]:\n",
    "        file_name = '{}_{}'.format(title.replace(\" \", \"\").replace(\"/\", \"_\").replace(\"\\\\\", \"_\").replace(\",\", \"_\").replace(\"'\", \"_\" ), link.split('/')[-1])\n",
    "#         file_name = link.split('/')[-1]\n",
    "        file_names.append(file_name)\n",
    "        with open(os.path.join('images', file_name), \"wb\") as f:\n",
    "            f.write(requests.get(link).content)\n",
    "    \n",
    "    return file_names\n",
    "    "
   ]
  },
  {
   "cell_type": "code",
   "execution_count": 3,
   "metadata": {},
   "outputs": [],
   "source": [
    "def scrape_exercise_page(soup, exercises_df):\n",
    "\n",
    "    for card in soup.find_all(\"a\", {\"class\": \"exercise-card\"}):\n",
    "        title = card.find(\"h2\", {\"class\": \"exercise-card__title\"}).get_text()\n",
    "\n",
    "        exercise_info_text_base = \"exercise-info__term exercise-info__term--\"\n",
    "        body_part = card.find(\"div\", {\"class\": exercise_info_text_base + \"body-part\"}).dd.get_text().split(', ')\n",
    "\n",
    "        difficulty = card.find(\"div\", {\"class\": exercise_info_text_base + \"difficulty\"}).span.get_text()\n",
    "\n",
    "        equipment = card.find(\"div\", {\"class\": exercise_info_text_base + \"equipment\"}).dd.get_text().split(', ')\n",
    "\n",
    "        # save images\n",
    "        image_names = save_exercise_images(soup, title)\n",
    "        \n",
    "        exercises_df = exercises_df.append({\"title\": title, \n",
    "                                            \"body_part\": body_part, \n",
    "                                            \"difficulty\": difficulty, \n",
    "                                            \"equipment\": equipment, \n",
    "                                            \"image1\": image_names[0], \n",
    "                                            \"image2\": image_names[1]}, ignore_index=True)\n",
    "        \n",
    "    return exercises_df"
   ]
  },
  {
   "cell_type": "markdown",
   "metadata": {},
   "source": [
    "### 1.2 Scrape data from website to dataframe"
   ]
  },
  {
   "cell_type": "code",
   "execution_count": null,
   "metadata": {},
   "outputs": [],
   "source": [
    "exercises_df = pd.DataFrame()\n",
    "\n",
    "for difficulty in ['beginner', 'intermediate', 'advanced']:\n",
    "    url = \"https://www.acefitness.org/education-and-resources/lifestyle/exercise-library/experience/{}/\".format(difficulty)\n",
    "\n",
    "    page_number = 1\n",
    "    while True:\n",
    "        page = requests.get(\"{}/?page={}\".format(url, page_number))\n",
    "        soup = BeautifulSoup(page.content, 'html.parser')\n",
    "        extracted_page_number = int(soup.find_all(\"script\", {\"type\": \"text/javascript\"})[-4].contents[0].split(\"exerciseFilter.selectedPage = \")[-1].split(\";\")[0])\n",
    "        if page_number == extracted_page_number:\n",
    "            exercises_df = scrape_exercise_page(soup, exercises_df)\n",
    "            page_number += 1\n",
    "        else:\n",
    "            break"
   ]
  },
  {
   "cell_type": "code",
   "execution_count": null,
   "metadata": {},
   "outputs": [],
   "source": [
    "# Move title column to front\n",
    "exercises_df = exercises_df[['title'] + [col for col in exercises_df.columns if col != 'title']]\n",
    "exercises_df"
   ]
  },
  {
   "cell_type": "markdown",
   "metadata": {},
   "source": [
    "### 1.3 Save data"
   ]
  },
  {
   "cell_type": "code",
   "execution_count": null,
   "metadata": {},
   "outputs": [],
   "source": [
    "exercises_df.to_csv(os.path.join('data', 'exercises.csv'), index=False)"
   ]
  },
  {
   "cell_type": "markdown",
   "metadata": {},
   "source": [
    "## 2. Filtering Data"
   ]
  },
  {
   "cell_type": "code",
   "execution_count": null,
   "metadata": {},
   "outputs": [],
   "source": [
    "df = copy.deepcopy(exercises_df)\n",
    "df = df.join(exercises_df['body_part'].str.join(',').str.get_dummies(sep=',').astype(bool).add_prefix('body_part__'))\n",
    "df = df.join(exercises_df['equipment'].str.join(',').str.get_dummies(sep=',').astype(bool).add_prefix('equipment__'))"
   ]
  },
  {
   "cell_type": "code",
   "execution_count": null,
   "metadata": {},
   "outputs": [],
   "source": [
    "body_parts = [col[len('body_part__'):] for col in df.columns if 'body_part__' in col]\n",
    "body_parts"
   ]
  },
  {
   "cell_type": "code",
   "execution_count": null,
   "metadata": {},
   "outputs": [],
   "source": [
    "equipments = [col[len('equipment__'):] for col in df.columns if 'equipment__' in col]\n",
    "equipments"
   ]
  },
  {
   "cell_type": "code",
   "execution_count": null,
   "metadata": {},
   "outputs": [],
   "source": [
    "difficulties = list(exercises_df['difficulty'].unique())\n",
    "difficulties"
   ]
  },
  {
   "cell_type": "code",
   "execution_count": null,
   "metadata": {},
   "outputs": [],
   "source": [
    "df.to_csv(os.path.join('data', 'exercises_expanded.csv'), index=False)"
   ]
  },
  {
   "cell_type": "code",
   "execution_count": null,
   "metadata": {},
   "outputs": [],
   "source": [
    "df[df['difficulty'] == 'Beginner'].title.values"
   ]
  },
  {
   "cell_type": "code",
   "execution_count": null,
   "metadata": {},
   "outputs": [],
   "source": []
  }
 ],
 "metadata": {
  "kernelspec": {
   "display_name": "Python 3",
   "language": "python",
   "name": "python3"
  },
  "language_info": {
   "codemirror_mode": {
    "name": "ipython",
    "version": 3
   },
   "file_extension": ".py",
   "mimetype": "text/x-python",
   "name": "python",
   "nbconvert_exporter": "python",
   "pygments_lexer": "ipython3",
   "version": "3.8.5"
  }
 },
 "nbformat": 4,
 "nbformat_minor": 4
}
